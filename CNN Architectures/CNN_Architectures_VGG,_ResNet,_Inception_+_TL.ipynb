{
  "nbformat": 4,
  "nbformat_minor": 0,
  "metadata": {
    "colab": {
      "name": "CNN Architectures : VGG, ResNet, Inception + TL.ipynb",
      "provenance": [],
      "collapsed_sections": [],
      "authorship_tag": "ABX9TyP4YCCDhmDzeeivzQhWItnE",
      "include_colab_link": true
    },
    "kernelspec": {
      "name": "python3",
      "display_name": "Python 3"
    }
  },
  "cells": [
    {
      "cell_type": "markdown",
      "metadata": {
        "id": "view-in-github",
        "colab_type": "text"
      },
      "source": [
        "<a href=\"https://colab.research.google.com/github/kool7/Deep_Learning_Resources_2020/blob/master/CNN%20Architectures/CNN_Architectures_VGG%2C_ResNet%2C_Inception_%2B_TL.ipynb\" target=\"_parent\"><img src=\"https://colab.research.google.com/assets/colab-badge.svg\" alt=\"Open In Colab\"/></a>"
      ]
    },
    {
      "cell_type": "code",
      "metadata": {
        "id": "eOukbSwCVM9F",
        "colab_type": "code",
        "colab": {}
      },
      "source": [
        "import tensorflow as tf\n",
        "from tensorflow.keras.layers import Input, Conv2D, MaxPooling2D\n",
        "from tensorflow.keras.layers import Dense, Flatten, concatenate\n",
        "from tensorflow.keras.models import Model"
      ],
      "execution_count": 0,
      "outputs": []
    },
    {
      "cell_type": "markdown",
      "metadata": {
        "id": "W549F8xjWqUA",
        "colab_type": "text"
      },
      "source": [
        "## VGG16 Architecture"
      ]
    },
    {
      "cell_type": "code",
      "metadata": {
        "id": "jqTnkDSnZzFK",
        "colab_type": "code",
        "colab": {
          "base_uri": "https://localhost:8080/",
          "height": 941
        },
        "outputId": "53cf1827-45d6-4335-eb6c-cde189d30097"
      },
      "source": [
        "_input = Input((224,224,1)) \n",
        "\n",
        "conv1  = Conv2D(filters=64, kernel_size=(3,3), padding=\"same\", activation=\"relu\")(_input)\n",
        "conv2  = Conv2D(filters=64, kernel_size=(3,3), padding=\"same\", activation=\"relu\")(conv1)\n",
        "pool1  = MaxPooling2D((2, 2))(conv2)\n",
        "\n",
        "conv3  = Conv2D(filters=128, kernel_size=(3,3), padding=\"same\", activation=\"relu\")(pool1)\n",
        "conv4  = Conv2D(filters=128, kernel_size=(3,3), padding=\"same\", activation=\"relu\")(conv3)\n",
        "pool2  = MaxPooling2D((2, 2))(conv4)\n",
        "\n",
        "conv5  = Conv2D(filters=256, kernel_size=(3,3), padding=\"same\", activation=\"relu\")(pool2)\n",
        "conv6  = Conv2D(filters=256, kernel_size=(3,3), padding=\"same\", activation=\"relu\")(conv5)\n",
        "conv7  = Conv2D(filters=256, kernel_size=(3,3), padding=\"same\", activation=\"relu\")(conv6)\n",
        "pool3  = MaxPooling2D((2, 2))(conv7)\n",
        "\n",
        "conv8  = Conv2D(filters=512, kernel_size=(3,3), padding=\"same\", activation=\"relu\")(pool3)\n",
        "conv9  = Conv2D(filters=512, kernel_size=(3,3), padding=\"same\", activation=\"relu\")(conv8)\n",
        "conv10 = Conv2D(filters=512, kernel_size=(3,3), padding=\"same\", activation=\"relu\")(conv9)\n",
        "pool4  = MaxPooling2D((2, 2))(conv10)\n",
        "\n",
        "conv11 = Conv2D(filters=512, kernel_size=(3,3), padding=\"same\", activation=\"relu\")(pool4)\n",
        "conv12 = Conv2D(filters=512, kernel_size=(3,3), padding=\"same\", activation=\"relu\")(conv11)\n",
        "conv13 = Conv2D(filters=512, kernel_size=(3,3), padding=\"same\", activation=\"relu\")(conv12)\n",
        "pool5  = MaxPooling2D((2, 2))(conv13)\n",
        "\n",
        "flat   = Flatten()(pool5)\n",
        "dense1 = Dense(4096, activation=\"relu\")(flat)\n",
        "dense2 = Dense(4096, activation=\"relu\")(dense1)\n",
        "output = Dense(1000, activation=\"softmax\")(dense2)\n",
        "\n",
        "vgg16_model  = Model(inputs=_input, outputs=output)\n",
        "\n",
        "print(vgg16_model.summary())"
      ],
      "execution_count": 14,
      "outputs": [
        {
          "output_type": "stream",
          "text": [
            "Model: \"model_4\"\n",
            "_________________________________________________________________\n",
            "Layer (type)                 Output Shape              Param #   \n",
            "=================================================================\n",
            "input_10 (InputLayer)        [(None, 224, 224, 1)]     0         \n",
            "_________________________________________________________________\n",
            "conv2d_101 (Conv2D)          (None, 224, 224, 64)      640       \n",
            "_________________________________________________________________\n",
            "conv2d_102 (Conv2D)          (None, 224, 224, 64)      36928     \n",
            "_________________________________________________________________\n",
            "max_pooling2d_37 (MaxPooling (None, 112, 112, 64)      0         \n",
            "_________________________________________________________________\n",
            "conv2d_103 (Conv2D)          (None, 112, 112, 128)     73856     \n",
            "_________________________________________________________________\n",
            "conv2d_104 (Conv2D)          (None, 112, 112, 128)     147584    \n",
            "_________________________________________________________________\n",
            "max_pooling2d_38 (MaxPooling (None, 56, 56, 128)       0         \n",
            "_________________________________________________________________\n",
            "conv2d_105 (Conv2D)          (None, 56, 56, 256)       295168    \n",
            "_________________________________________________________________\n",
            "conv2d_106 (Conv2D)          (None, 56, 56, 256)       590080    \n",
            "_________________________________________________________________\n",
            "conv2d_107 (Conv2D)          (None, 56, 56, 256)       590080    \n",
            "_________________________________________________________________\n",
            "max_pooling2d_39 (MaxPooling (None, 28, 28, 256)       0         \n",
            "_________________________________________________________________\n",
            "conv2d_108 (Conv2D)          (None, 28, 28, 512)       1180160   \n",
            "_________________________________________________________________\n",
            "conv2d_109 (Conv2D)          (None, 28, 28, 512)       2359808   \n",
            "_________________________________________________________________\n",
            "conv2d_110 (Conv2D)          (None, 28, 28, 512)       2359808   \n",
            "_________________________________________________________________\n",
            "max_pooling2d_40 (MaxPooling (None, 14, 14, 512)       0         \n",
            "_________________________________________________________________\n",
            "conv2d_111 (Conv2D)          (None, 14, 14, 512)       2359808   \n",
            "_________________________________________________________________\n",
            "conv2d_112 (Conv2D)          (None, 14, 14, 512)       2359808   \n",
            "_________________________________________________________________\n",
            "conv2d_113 (Conv2D)          (None, 14, 14, 512)       2359808   \n",
            "_________________________________________________________________\n",
            "max_pooling2d_41 (MaxPooling (None, 7, 7, 512)         0         \n",
            "_________________________________________________________________\n",
            "flatten_9 (Flatten)          (None, 25088)             0         \n",
            "_________________________________________________________________\n",
            "dense_23 (Dense)             (None, 4096)              102764544 \n",
            "_________________________________________________________________\n",
            "dense_24 (Dense)             (None, 4096)              16781312  \n",
            "_________________________________________________________________\n",
            "dense_25 (Dense)             (None, 1000)              4097000   \n",
            "=================================================================\n",
            "Total params: 138,356,392\n",
            "Trainable params: 138,356,392\n",
            "Non-trainable params: 0\n",
            "_________________________________________________________________\n",
            "None\n"
          ],
          "name": "stdout"
        }
      ]
    },
    {
      "cell_type": "markdown",
      "metadata": {
        "id": "fDOmsCsk0hzL",
        "colab_type": "text"
      },
      "source": [
        "## Inception Architecture"
      ]
    },
    {
      "cell_type": "code",
      "metadata": {
        "id": "KppxGNB7Z5vm",
        "colab_type": "code",
        "colab": {
          "base_uri": "https://localhost:8080/",
          "height": 558
        },
        "outputId": "c76fc52d-d026-4158-f414-bbb0f43da1aa"
      },
      "source": [
        "input_img = Input(shape = (32, 32, 3))\n",
        "\n",
        "tower_1 = Conv2D(64, (1,1), padding='same', activation='relu')(input_img)\n",
        "tower_1 = Conv2D(64, (3,3), padding='same', activation='relu')(tower_1)\n",
        "\n",
        "tower_2 = Conv2D(64, (1,1), padding='same', activation='relu')(input_img)\n",
        "tower_2 = Conv2D(64, (5,5), padding='same', activation='relu')(tower_2)\n",
        "\n",
        "tower_3 = MaxPooling2D((3,3), strides=(1,1), padding='same')(input_img)\n",
        "tower_3 = Conv2D(64, (1,1), padding='same', activation='relu')(tower_3)\n",
        "\n",
        "concat = concatenate([tower_1, tower_2, tower_3], axis=3)\n",
        "\n",
        "flat = Flatten()(concat)\n",
        "output    = Dense(10, activation='softmax')(flat)\n",
        "\n",
        "inception = Model(inputs = input_img, outputs = output)\n",
        "\n",
        "print(inception.summary())"
      ],
      "execution_count": 13,
      "outputs": [
        {
          "output_type": "stream",
          "text": [
            "Model: \"model_3\"\n",
            "__________________________________________________________________________________________________\n",
            "Layer (type)                    Output Shape         Param #     Connected to                     \n",
            "==================================================================================================\n",
            "input_9 (InputLayer)            [(None, 32, 32, 3)]  0                                            \n",
            "__________________________________________________________________________________________________\n",
            "conv2d_96 (Conv2D)              (None, 32, 32, 64)   256         input_9[0][0]                    \n",
            "__________________________________________________________________________________________________\n",
            "conv2d_98 (Conv2D)              (None, 32, 32, 64)   256         input_9[0][0]                    \n",
            "__________________________________________________________________________________________________\n",
            "max_pooling2d_36 (MaxPooling2D) (None, 32, 32, 3)    0           input_9[0][0]                    \n",
            "__________________________________________________________________________________________________\n",
            "conv2d_97 (Conv2D)              (None, 32, 32, 64)   36928       conv2d_96[0][0]                  \n",
            "__________________________________________________________________________________________________\n",
            "conv2d_99 (Conv2D)              (None, 32, 32, 64)   102464      conv2d_98[0][0]                  \n",
            "__________________________________________________________________________________________________\n",
            "conv2d_100 (Conv2D)             (None, 32, 32, 64)   256         max_pooling2d_36[0][0]           \n",
            "__________________________________________________________________________________________________\n",
            "concatenate_1 (Concatenate)     (None, 32, 32, 192)  0           conv2d_97[0][0]                  \n",
            "                                                                 conv2d_99[0][0]                  \n",
            "                                                                 conv2d_100[0][0]                 \n",
            "__________________________________________________________________________________________________\n",
            "flatten_8 (Flatten)             (None, 196608)       0           concatenate_1[0][0]              \n",
            "__________________________________________________________________________________________________\n",
            "dense_22 (Dense)                (None, 10)           1966090     flatten_8[0][0]                  \n",
            "==================================================================================================\n",
            "Total params: 2,106,250\n",
            "Trainable params: 2,106,250\n",
            "Non-trainable params: 0\n",
            "__________________________________________________________________________________________________\n",
            "None\n"
          ],
          "name": "stdout"
        }
      ]
    },
    {
      "cell_type": "code",
      "metadata": {
        "id": "FEULNoRh1nrW",
        "colab_type": "code",
        "colab": {}
      },
      "source": [
        ""
      ],
      "execution_count": 0,
      "outputs": []
    }
  ]
}